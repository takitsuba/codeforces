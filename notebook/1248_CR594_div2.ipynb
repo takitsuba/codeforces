{
 "cells": [
  {
   "cell_type": "code",
   "execution_count": null,
   "metadata": {},
   "outputs": [],
   "source": [
    "t = int(input())\n",
    "for _ in range(t):\n",
    "    n = int(input())\n",
    "    p_list = list(map(int,input().split()))\n",
    "\n",
    "    m = int(input())\n",
    "    q_list = list(map(int,input().split()))\n",
    "\n",
    "    p_odd = len([p for p in p_list if p%2==1])\n",
    "    p_eve = len(p_list) - p_odd\n",
    "\n",
    "    q_odd = len([q for q in q_list if q%2==1])\n",
    "    q_eve = len(q_list) - q_odd\n",
    "\n",
    "    print(p_odd*q_odd + p_eve*q_eve)"
   ]
  },
  {
   "cell_type": "code",
   "execution_count": null,
   "metadata": {},
   "outputs": [],
   "source": [
    "q_eve"
   ]
  },
  {
   "cell_type": "code",
   "execution_count": null,
   "metadata": {},
   "outputs": [],
   "source": []
  },
  {
   "cell_type": "markdown",
   "metadata": {},
   "source": [
    "# B"
   ]
  },
  {
   "cell_type": "code",
   "execution_count": null,
   "metadata": {},
   "outputs": [],
   "source": [
    "n = int(input())\n",
    "a_list = list(map(int, input().split()))\n",
    "\n",
    "a_list.sort()\n",
    "\n",
    "small = sum(a_list[:n//2])\n",
    "big = sum(a_list[n//2:])\n",
    "\n",
    "print(small**2+big**2)"
   ]
  },
  {
   "cell_type": "code",
   "execution_count": null,
   "metadata": {},
   "outputs": [],
   "source": []
  },
  {
   "cell_type": "markdown",
   "metadata": {},
   "source": [
    "# C"
   ]
  },
  {
   "cell_type": "code",
   "execution_count": 6,
   "metadata": {},
   "outputs": [
    {
     "data": {
      "application/vnd.jupyter.widget-view+json": {
       "model_id": "c244988c4788450690c282e3eb1bb01c",
       "version_major": 2,
       "version_minor": 0
      },
      "text/plain": [
       "Textarea(value='')"
      ]
     },
     "metadata": {},
     "output_type": "display_data"
    }
   ],
   "source": [
    "from ipywidgets import Textarea\n",
    "import io\n",
    "\n",
    "if 'open' in globals():\n",
    "    del open\n",
    "if 'input' in globals():\n",
    "    del input\n",
    "\n",
    "original_open = open\n",
    "\n",
    "class custom_open():\n",
    "    def __init__(self):\n",
    "        self.text = ''\n",
    "\n",
    "    def __call__(self, file, *args, **kwargs):\n",
    "        if file == 0:\n",
    "            return io.StringIO(self.text)\n",
    "        return original_open(file, *args, **kwargs)\n",
    "\n",
    "    def updater(self, change):\n",
    "        self.text = change['new']\n",
    "\n",
    "class custom_input():\n",
    "    def __init__(self):\n",
    "        self.__sio = io.StringIO('')\n",
    "        self.shell = get_ipython()\n",
    "        if self.shell.events.callbacks['pre_run_cell'] != []:\n",
    "            self.shell.events.callbacks['pre_run_cell'] = []\n",
    "        self.shell.events.register('pre_run_cell', self.pre_run_cell)\n",
    "\n",
    "    def __call__(self):\n",
    "        return self.__sio.readline().strip()\n",
    "\n",
    "    def pre_run_cell(self, info):\n",
    "        text = self.shell.user_ns.get('text_area', None).value\n",
    "        self.__sio = io.StringIO(text)\n",
    "\n",
    "open = custom_open()\n",
    "input = custom_input()\n",
    "\n",
    "text_area = Textarea()\n",
    "text_area.observe(open.updater, names='value')\n",
    "display(text_area)"
   ]
  },
  {
   "cell_type": "code",
   "execution_count": 8,
   "metadata": {},
   "outputs": [],
   "source": [
    "n = int(input())\n",
    "s = list(input())\n",
    "\n",
    "left = len([1 for c in s if c == \"(\"])\n",
    "right = len(s) - left"
   ]
  },
  {
   "cell_type": "code",
   "execution_count": 9,
   "metadata": {},
   "outputs": [
    {
     "data": {
      "text/plain": [
       "4"
      ]
     },
     "execution_count": 9,
     "metadata": {},
     "output_type": "execute_result"
    }
   ],
   "source": [
    "if left != right:\n",
    "    print(0)\n",
    "    print(1 1)\n",
    "else:\n",
    "    idxes = []\n",
    "    tmp = 0\n",
    "    for w in s:\n",
    "        if w == \"(\":\n",
    "            tmp += 1\n",
    "        else:\n",
    "            tmp -= 1\n",
    "        idxes.append(tmp)\n",
    "    min_idx = min(idxes)\n",
    "    idx = idxes.index(min_idx)\n",
    "    \n",
    "    \n",
    "    if idx == len(s)-1:\n",
    "        pass\n",
    "    else:\n",
    "        s = s[idx+1:] + s[:idx+1]\n",
    "    \n",
    "    tmp = 0\n",
    "    for w in s:\n",
    "        if w == \"(\":\n",
    "            tmp += 1\n",
    "        else:\n",
    "            tmp -= 1\n",
    "        idxes.append(tmp)\n",
    "    print(len([1 for idx in idxes if idx == 0]))\n",
    "    "
   ]
  },
  {
   "cell_type": "markdown",
   "metadata": {},
   "source": [
    "## D"
   ]
  },
  {
   "cell_type": "code",
   "execution_count": 5,
   "metadata": {},
   "outputs": [
    {
     "name": "stdout",
     "output_type": "stream",
     "text": [
      "1 1\n",
      "2\n"
     ]
    }
   ],
   "source": [
    "n, m = map(int,input().split())\n",
    "\n",
    "def create_dp(x):\n",
    "    dp = [0 for _ in range(x)]\n",
    "    dp[0] = 1\n",
    "    if x == 1:\n",
    "        return dp\n",
    "    dp[1] = 2\n",
    "    if x == 2:\n",
    "        return dp\n",
    "    \n",
    "    for i in range(2,x):\n",
    "        dp[i]  = dp[i-1] + dp[i-2]\n",
    "        dp[i] %= MOD\n",
    "    \n",
    "    return dp\n",
    "\n",
    "MOD = 10**9+7\n",
    "\n",
    "cut_pattern = 0\n",
    "\n",
    "dp = create_dp(max(n,m))\n",
    "cut_pattern += dp[n-1]*2\n",
    "cut_pattern += dp[m-1]*2\n",
    "\n",
    "cut_pattern -= 2\n",
    "\n",
    "cut_pattern %= MOD\n",
    "\n",
    "print(cut_pattern)"
   ]
  },
  {
   "cell_type": "code",
   "execution_count": null,
   "metadata": {},
   "outputs": [],
   "source": [
    "def combinations_dp(x):\n",
    "    dp = [0 for _ in range(x)]\n",
    "    dp[0] = 1\n",
    "    if x == 1:\n",
    "        return dp[0]\n",
    "    dp[1] = 2\n",
    "    if x == 2:\n",
    "        return dp[1]\n",
    "    \n",
    "    for i in range(2,x):\n",
    "        dp[i]  = dp[i-1] + dp[i-2] \n",
    "    \n",
    "    return dp[-1]"
   ]
  },
  {
   "cell_type": "code",
   "execution_count": null,
   "metadata": {},
   "outputs": [],
   "source": [
    "combinations_dp(2)"
   ]
  },
  {
   "cell_type": "code",
   "execution_count": null,
   "metadata": {},
   "outputs": [],
   "source": [
    "from itertools import permutations, combinations,combinations_with_replacement,product"
   ]
  },
  {
   "cell_type": "code",
   "execution_count": null,
   "metadata": {},
   "outputs": [],
   "source": [
    "combinations(10**6,3)"
   ]
  },
  {
   "cell_type": "code",
   "execution_count": null,
   "metadata": {},
   "outputs": [],
   "source": [
    "cut_pat(2)"
   ]
  },
  {
   "cell_type": "code",
   "execution_count": null,
   "metadata": {},
   "outputs": [],
   "source": [
    "factorial(10**6)"
   ]
  },
  {
   "cell_type": "code",
   "execution_count": null,
   "metadata": {},
   "outputs": [],
   "source": []
  }
 ],
 "metadata": {
  "kernelspec": {
   "display_name": "Python 3",
   "language": "python",
   "name": "python3"
  },
  "language_info": {
   "codemirror_mode": {
    "name": "ipython",
    "version": 3
   },
   "file_extension": ".py",
   "mimetype": "text/x-python",
   "name": "python",
   "nbconvert_exporter": "python",
   "pygments_lexer": "ipython3",
   "version": "3.7.0"
  }
 },
 "nbformat": 4,
 "nbformat_minor": 2
}
